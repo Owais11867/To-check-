{
 "cells": [
  {
   "cell_type": "code",
   "execution_count": 9,
   "id": "48ff8482",
   "metadata": {},
   "outputs": [
    {
     "name": "stdout",
     "output_type": "stream",
     "text": [
      "Enter your first name: Owais\n",
      "Enter your last name: Ansari\n",
      "Ansari Owais\n"
     ]
    }
   ],
   "source": [
    "f_name = input(\"Enter your first name: \");\n",
    "l_name = input(\"Enter your last name: \");\n",
    "print (l_name  + \" \" +  f_name);"
   ]
  },
  {
   "cell_type": "code",
   "execution_count": 10,
   "id": "cbfd3ed2",
   "metadata": {},
   "outputs": [
    {
     "name": "stdout",
     "output_type": "stream",
     "text": [
      "Enter the radius of circle: 25\n",
      "1963.4954084936207\n"
     ]
    }
   ],
   "source": [
    "import math\n",
    "radius = int(input(\"Enter the radius of circle: \"));\n",
    "area = math.pi * radius**2;\n",
    "print(area);"
   ]
  },
  {
   "cell_type": "code",
   "execution_count": 11,
   "id": "53d8a9a5",
   "metadata": {},
   "outputs": [
    {
     "name": "stdout",
     "output_type": "stream",
     "text": [
      "Enter first input: pakistan\n",
      "Enter the second input: india\n",
      "pakistanindia\n"
     ]
    }
   ],
   "source": [
    "f_input = input(\"Enter first input: \");\n",
    "s_input = input(\"Enter the second input: \");\n",
    "addition = f_input + s_input;\n",
    "print(addition)"
   ]
  },
  {
   "cell_type": "code",
   "execution_count": 22,
   "id": "d35e6981",
   "metadata": {},
   "outputs": [
    {
     "name": "stdout",
     "output_type": "stream",
     "text": [
      "Enter the marks of English: 80\n",
      "Enter the marks of Islamiyat: 85\n",
      "Enter the marks of Math: 65\n",
      "Enter the marks of PST: 88\n",
      "Enter the marks of Science: 60\n",
      "Total Marks: 500\n",
      "Obtained Mark: 378\n",
      "Percentage: 75.6\n",
      "Grade: A\n"
     ]
    }
   ],
   "source": [
    "english = int(input(\"Enter the marks of English: \"));\n",
    "islam = int(input(\"Enter the marks of Islamiyat: \"));\n",
    "math = int(input(\"Enter the marks of Math: \"));\n",
    "pst = int(input(\"Enter the marks of PST: \"));\n",
    "science = int(input(\"Enter the marks of Science: \"));\n",
    "\n",
    "t_mark = 500;\n",
    "obtn_mark = english + islam + math + pst + science;\n",
    "percent = obtn_mark / t_mark * 100;\n",
    "\n",
    "print(\"Total Marks: \" + str(t_mark));\n",
    "print(\"Obtained Mark: \" + str(obtn_mark));\n",
    "print(\"Percentage: \" + str(percent));\n",
    "\n",
    "if percent >= 80 and percent <100:\n",
    "    print(\"Grade: A+\");\n",
    "elif percent >= 70 and percent <80:\n",
    "    print(\"Grade: A\");\n",
    "elif percent >= 60 and percent <70:\n",
    "    print(\"Grade: B\");\n",
    "elif percent >= 50 and percent <60:\n",
    "    print(\"Grade: C\");\n",
    "elif percent >= 40 and percent <50:\n",
    "    print(\"Grade: D\");\n",
    "elif percent >= 30 and percent <40:\n",
    "    print(\"Grade: E\");\n",
    "elif percent >= 0 and percent <30:\n",
    "    print(\"Grade: Fail\");\n",
    "else:\n",
    "    print(\"Somethong wrong in calculation.\")\n",
    "\n"
   ]
  },
  {
   "cell_type": "code",
   "execution_count": 29,
   "id": "be1e5b8f",
   "metadata": {},
   "outputs": [
    {
     "name": "stdout",
     "output_type": "stream",
     "text": [
      "Enter any number to check that is even or odd: 12\n",
      "Number is even.\n"
     ]
    }
   ],
   "source": [
    " num = int(input(\"Enter any number to check that is even or odd: \"));\n",
    "if num%2 == 0:\n",
    "    print(\"Number is even.\");\n",
    "else:\n",
    "    print(\"Number is odd.\");"
   ]
  },
  {
   "cell_type": "code",
   "execution_count": 30,
   "id": "bf7cca80",
   "metadata": {},
   "outputs": [
    {
     "name": "stdout",
     "output_type": "stream",
     "text": [
      "5\n"
     ]
    }
   ],
   "source": [
    "list = [2,45,6,57,65]\n",
    "print (len(list))"
   ]
  },
  {
   "cell_type": "code",
   "execution_count": 31,
   "id": "7efac9ee",
   "metadata": {},
   "outputs": [
    {
     "name": "stdout",
     "output_type": "stream",
     "text": [
      "Sum of all elments of the list: 100\n"
     ]
    }
   ],
   "source": [
    "list = [5,10,15,50,20]\n",
    "add = sum(list);\n",
    "print(\"Sum of all elments of the list: \"+ str(add))"
   ]
  },
  {
   "cell_type": "code",
   "execution_count": 33,
   "id": "f65013b7",
   "metadata": {},
   "outputs": [
    {
     "name": "stdout",
     "output_type": "stream",
     "text": [
      "Smallest element of the list: 5\n",
      "Largest element of the list: 50\n"
     ]
    }
   ],
   "source": [
    "list = [5,10,15,50,20]\n",
    "list.sort()\n",
    "print(\"Smallest element of the list: \"+str(list[0]))\n",
    "print(\"Largest element of the list: \"+str(list[-1]))"
   ]
  },
  {
   "cell_type": "code",
   "execution_count": 47,
   "id": "585cb30e",
   "metadata": {},
   "outputs": [
    {
     "name": "stdout",
     "output_type": "stream",
     "text": [
      "Elements of the list less than 5: [1, 1, 2, 3]\n"
     ]
    }
   ],
   "source": [
    "a = [1, 1, 2, 3, 5, 8, 13, 21, 34, 55, 89]\n",
    "new = [];\n",
    "for y in a:\n",
    "    if (y<5):\n",
    "        new = new+[y];\n",
    "print(\"Elements of the list less than 5: \"+str(new));\n"
   ]
  },
  {
   "cell_type": "code",
   "execution_count": null,
   "id": "7b3756ed",
   "metadata": {},
   "outputs": [],
   "source": []
  }
 ],
 "metadata": {
  "kernelspec": {
   "display_name": "Python 3",
   "language": "python",
   "name": "python3"
  },
  "language_info": {
   "codemirror_mode": {
    "name": "ipython",
    "version": 3
   },
   "file_extension": ".py",
   "mimetype": "text/x-python",
   "name": "python",
   "nbconvert_exporter": "python",
   "pygments_lexer": "ipython3",
   "version": "3.8.8"
  }
 },
 "nbformat": 4,
 "nbformat_minor": 5
}
